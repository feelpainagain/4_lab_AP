{
 "cells": [
  {
   "cell_type": "markdown",
   "metadata": {},
   "source": [
    "Импортируем все необходимое"
   ]
  },
  {
   "cell_type": "code",
   "execution_count": 3,
   "metadata": {},
   "outputs": [],
   "source": [
    "import cv2\n",
    "import random\n",
    "import pandas as pd\n",
    "import matplotlib.pyplot as plt\n",
    "\n",
    "from typing import List"
   ]
  },
  {
   "cell_type": "markdown",
   "metadata": {},
   "source": [
    "Задание 1 и 2. Создадим DataFrame с двумя колонками. Названия колонок \"abs_path\" и \"classname\". "
   ]
  },
  {
   "cell_type": "code",
   "execution_count": 4,
   "metadata": {},
   "outputs": [
    {
     "name": "stdout",
     "output_type": "stream",
     "text": [
      "                                               abs_path classname\n",
      "0     C:\\Users\\kiril\\Desktop\\timoha_code\\dataset\\tig...     tiger\n",
      "1     C:\\Users\\kiril\\Desktop\\timoha_code\\dataset\\tig...     tiger\n",
      "2     C:\\Users\\kiril\\Desktop\\timoha_code\\dataset\\tig...     tiger\n",
      "3     C:\\Users\\kiril\\Desktop\\timoha_code\\dataset\\tig...     tiger\n",
      "4     C:\\Users\\kiril\\Desktop\\timoha_code\\dataset\\tig...     tiger\n",
      "...                                                 ...       ...\n",
      "2461  C:\\Users\\kiril\\Desktop\\timoha_code\\dataset\\leo...   leopard\n",
      "2462  C:\\Users\\kiril\\Desktop\\timoha_code\\dataset\\leo...   leopard\n",
      "2463  C:\\Users\\kiril\\Desktop\\timoha_code\\dataset\\leo...   leopard\n",
      "2464  C:\\Users\\kiril\\Desktop\\timoha_code\\dataset\\leo...   leopard\n",
      "2465  C:\\Users\\kiril\\Desktop\\timoha_code\\dataset\\leo...   leopard\n",
      "\n",
      "[2466 rows x 2 columns]\n"
     ]
    }
   ],
   "source": [
    "df = pd.read_csv('annotation.csv', delimiter=';', usecols = (1, 3), names = ('abs_path', 'classname'))\n",
    "print(df)"
   ]
  }
 ],
 "metadata": {
  "kernelspec": {
   "display_name": "base",
   "language": "python",
   "name": "python3"
  },
  "language_info": {
   "codemirror_mode": {
    "name": "ipython",
    "version": 3
   },
   "file_extension": ".py",
   "mimetype": "text/x-python",
   "name": "python",
   "nbconvert_exporter": "python",
   "pygments_lexer": "ipython3",
   "version": "3.12.0"
  }
 },
 "nbformat": 4,
 "nbformat_minor": 2
}

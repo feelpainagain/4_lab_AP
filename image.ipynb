{
 "cells": [
  {
   "cell_type": "markdown",
   "metadata": {},
   "source": [
    "Импортируем все необходимое"
   ]
  },
  {
   "cell_type": "code",
   "execution_count": 11,
   "metadata": {},
   "outputs": [],
   "source": [
    "import cv2\n",
    "import random\n",
    "import pandas as pd\n",
    "import matplotlib.pyplot as plt\n",
    "\n",
    "from typing import List"
   ]
  },
  {
   "cell_type": "markdown",
   "metadata": {},
   "source": [
    "Задание 1 и 2. Создадим DataFrame с двумя колонками. Названия колонок \"abs_path\" и \"classname\". "
   ]
  },
  {
   "cell_type": "code",
   "execution_count": 12,
   "metadata": {},
   "outputs": [
    {
     "name": "stdout",
     "output_type": "stream",
     "text": [
      "                                               abs_path classname\n",
      "0     C:\\Users\\kiril\\Desktop\\4labAP\\dataset\\tiger\\00...     tiger\n",
      "1     C:\\Users\\kiril\\Desktop\\4labAP\\dataset\\tiger\\00...     tiger\n",
      "2     C:\\Users\\kiril\\Desktop\\4labAP\\dataset\\tiger\\00...     tiger\n",
      "3     C:\\Users\\kiril\\Desktop\\4labAP\\dataset\\tiger\\00...     tiger\n",
      "4     C:\\Users\\kiril\\Desktop\\4labAP\\dataset\\tiger\\00...     tiger\n",
      "...                                                 ...       ...\n",
      "2461  C:\\Users\\kiril\\Desktop\\4labAP\\dataset\\leopard\\...   leopard\n",
      "2462  C:\\Users\\kiril\\Desktop\\4labAP\\dataset\\leopard\\...   leopard\n",
      "2463  C:\\Users\\kiril\\Desktop\\4labAP\\dataset\\leopard\\...   leopard\n",
      "2464  C:\\Users\\kiril\\Desktop\\4labAP\\dataset\\leopard\\...   leopard\n",
      "2465  C:\\Users\\kiril\\Desktop\\4labAP\\dataset\\leopard\\...   leopard\n",
      "\n",
      "[2466 rows x 2 columns]\n"
     ]
    }
   ],
   "source": [
    "df = pd.read_csv('annotation.csv', delimiter=';', usecols = (1, 3), names = ('abs_path', 'classname'))\n",
    "print(df)"
   ]
  },
  {
   "cell_type": "markdown",
   "metadata": {},
   "source": [
    "Задание 3. Добавление столбца с метками \"0\" для класса \"tiger\" и \"1\" для класса \"leopard\"."
   ]
  },
  {
   "cell_type": "code",
   "execution_count": 13,
   "metadata": {},
   "outputs": [
    {
     "name": "stdout",
     "output_type": "stream",
     "text": [
      "                                               abs_path classname  class_mark\n",
      "0     C:\\Users\\kiril\\Desktop\\4labAP\\dataset\\tiger\\00...     tiger           0\n",
      "1     C:\\Users\\kiril\\Desktop\\4labAP\\dataset\\tiger\\00...     tiger           0\n",
      "2     C:\\Users\\kiril\\Desktop\\4labAP\\dataset\\tiger\\00...     tiger           0\n",
      "3     C:\\Users\\kiril\\Desktop\\4labAP\\dataset\\tiger\\00...     tiger           0\n",
      "4     C:\\Users\\kiril\\Desktop\\4labAP\\dataset\\tiger\\00...     tiger           0\n",
      "...                                                 ...       ...         ...\n",
      "2461  C:\\Users\\kiril\\Desktop\\4labAP\\dataset\\leopard\\...   leopard           1\n",
      "2462  C:\\Users\\kiril\\Desktop\\4labAP\\dataset\\leopard\\...   leopard           1\n",
      "2463  C:\\Users\\kiril\\Desktop\\4labAP\\dataset\\leopard\\...   leopard           1\n",
      "2464  C:\\Users\\kiril\\Desktop\\4labAP\\dataset\\leopard\\...   leopard           1\n",
      "2465  C:\\Users\\kiril\\Desktop\\4labAP\\dataset\\leopard\\...   leopard           1\n",
      "\n",
      "[2466 rows x 3 columns]\n"
     ]
    }
   ],
   "source": [
    "df[\"class_mark\"] = 0\n",
    "df.loc[df[\"classname\"] == \"leopard\", \"class_mark\"] = 1\n",
    "print(df)"
   ]
  },
  {
   "cell_type": "markdown",
   "metadata": {},
   "source": [
    "Задание 4. Добавление трех столбцов \"height\", \"width\" и \"depth\"."
   ]
  },
  {
   "cell_type": "code",
   "execution_count": 14,
   "metadata": {},
   "outputs": [
    {
     "name": "stdout",
     "output_type": "stream",
     "text": [
      "                                               abs_path classname  class_mark  \\\n",
      "0     C:\\Users\\kiril\\Desktop\\4labAP\\dataset\\tiger\\00...     tiger           0   \n",
      "1     C:\\Users\\kiril\\Desktop\\4labAP\\dataset\\tiger\\00...     tiger           0   \n",
      "2     C:\\Users\\kiril\\Desktop\\4labAP\\dataset\\tiger\\00...     tiger           0   \n",
      "3     C:\\Users\\kiril\\Desktop\\4labAP\\dataset\\tiger\\00...     tiger           0   \n",
      "4     C:\\Users\\kiril\\Desktop\\4labAP\\dataset\\tiger\\00...     tiger           0   \n",
      "...                                                 ...       ...         ...   \n",
      "2461  C:\\Users\\kiril\\Desktop\\4labAP\\dataset\\leopard\\...   leopard           1   \n",
      "2462  C:\\Users\\kiril\\Desktop\\4labAP\\dataset\\leopard\\...   leopard           1   \n",
      "2463  C:\\Users\\kiril\\Desktop\\4labAP\\dataset\\leopard\\...   leopard           1   \n",
      "2464  C:\\Users\\kiril\\Desktop\\4labAP\\dataset\\leopard\\...   leopard           1   \n",
      "2465  C:\\Users\\kiril\\Desktop\\4labAP\\dataset\\leopard\\...   leopard           1   \n",
      "\n",
      "      height  \n",
      "0        300  \n",
      "1        300  \n",
      "2        300  \n",
      "3        316  \n",
      "4        320  \n",
      "...      ...  \n",
      "2461     300  \n",
      "2462     320  \n",
      "2463     320  \n",
      "2464     320  \n",
      "2465     300  \n",
      "\n",
      "[2466 rows x 4 columns]\n"
     ]
    }
   ],
   "source": [
    "height_i: List[int] = []\n",
    "\n",
    "for i in range(df[\"abs_path\"].size):\n",
    "    img = cv2.imread(df[\"abs_path\"].iloc[i])\n",
    "    if img is not None:\n",
    "      height_i.append(img.shape[0])\n",
    "    else:\n",
    "      print(df[\"abs_path\"].iloc[i])\n",
    "\n",
    "df[\"height\"] = height_i\n",
    "print(df)"
   ]
  },
  {
   "cell_type": "code",
   "execution_count": 15,
   "metadata": {},
   "outputs": [
    {
     "name": "stdout",
     "output_type": "stream",
     "text": [
      "                                               abs_path classname  class_mark  \\\n",
      "0     C:\\Users\\kiril\\Desktop\\4labAP\\dataset\\tiger\\00...     tiger           0   \n",
      "1     C:\\Users\\kiril\\Desktop\\4labAP\\dataset\\tiger\\00...     tiger           0   \n",
      "2     C:\\Users\\kiril\\Desktop\\4labAP\\dataset\\tiger\\00...     tiger           0   \n",
      "3     C:\\Users\\kiril\\Desktop\\4labAP\\dataset\\tiger\\00...     tiger           0   \n",
      "4     C:\\Users\\kiril\\Desktop\\4labAP\\dataset\\tiger\\00...     tiger           0   \n",
      "...                                                 ...       ...         ...   \n",
      "2461  C:\\Users\\kiril\\Desktop\\4labAP\\dataset\\leopard\\...   leopard           1   \n",
      "2462  C:\\Users\\kiril\\Desktop\\4labAP\\dataset\\leopard\\...   leopard           1   \n",
      "2463  C:\\Users\\kiril\\Desktop\\4labAP\\dataset\\leopard\\...   leopard           1   \n",
      "2464  C:\\Users\\kiril\\Desktop\\4labAP\\dataset\\leopard\\...   leopard           1   \n",
      "2465  C:\\Users\\kiril\\Desktop\\4labAP\\dataset\\leopard\\...   leopard           1   \n",
      "\n",
      "      height  width  \n",
      "0        300    480  \n",
      "1        300    480  \n",
      "2        300    480  \n",
      "3        316    480  \n",
      "4        320    480  \n",
      "...      ...    ...  \n",
      "2461     300    480  \n",
      "2462     320    180  \n",
      "2463     320    480  \n",
      "2464     320    445  \n",
      "2465     300    480  \n",
      "\n",
      "[2466 rows x 5 columns]\n"
     ]
    }
   ],
   "source": [
    "width_i: List[int] = []\n",
    "\n",
    "for i in range(df[\"abs_path\"].size):\n",
    "    img = cv2.imread(df[\"abs_path\"].iloc[i])\n",
    "    if img is not None:\n",
    "      width_i.append(img.shape[1])\n",
    "    else:\n",
    "      print(df[\"abs_path\"].iloc[i])\n",
    "\n",
    "df[\"width\"] = width_i\n",
    "print(df)"
   ]
  },
  {
   "cell_type": "code",
   "execution_count": 16,
   "metadata": {},
   "outputs": [
    {
     "name": "stdout",
     "output_type": "stream",
     "text": [
      "                                               abs_path classname  class_mark  \\\n",
      "0     C:\\Users\\kiril\\Desktop\\4labAP\\dataset\\tiger\\00...     tiger           0   \n",
      "1     C:\\Users\\kiril\\Desktop\\4labAP\\dataset\\tiger\\00...     tiger           0   \n",
      "2     C:\\Users\\kiril\\Desktop\\4labAP\\dataset\\tiger\\00...     tiger           0   \n",
      "3     C:\\Users\\kiril\\Desktop\\4labAP\\dataset\\tiger\\00...     tiger           0   \n",
      "4     C:\\Users\\kiril\\Desktop\\4labAP\\dataset\\tiger\\00...     tiger           0   \n",
      "...                                                 ...       ...         ...   \n",
      "2461  C:\\Users\\kiril\\Desktop\\4labAP\\dataset\\leopard\\...   leopard           1   \n",
      "2462  C:\\Users\\kiril\\Desktop\\4labAP\\dataset\\leopard\\...   leopard           1   \n",
      "2463  C:\\Users\\kiril\\Desktop\\4labAP\\dataset\\leopard\\...   leopard           1   \n",
      "2464  C:\\Users\\kiril\\Desktop\\4labAP\\dataset\\leopard\\...   leopard           1   \n",
      "2465  C:\\Users\\kiril\\Desktop\\4labAP\\dataset\\leopard\\...   leopard           1   \n",
      "\n",
      "      height  width  depth  \n",
      "0        300    480      3  \n",
      "1        300    480      3  \n",
      "2        300    480      3  \n",
      "3        316    480      3  \n",
      "4        320    480      3  \n",
      "...      ...    ...    ...  \n",
      "2461     300    480      3  \n",
      "2462     320    180      3  \n",
      "2463     320    480      3  \n",
      "2464     320    445      3  \n",
      "2465     300    480      3  \n",
      "\n",
      "[2466 rows x 6 columns]\n"
     ]
    }
   ],
   "source": [
    "depth_i: List[int] = []\n",
    "\n",
    "for i in range(df[\"abs_path\"].size):\n",
    "    img = cv2.imread(df[\"abs_path\"].iloc[i])\n",
    "    if img is not None:\n",
    "      depth_i.append(img.shape[2])\n",
    "    else:\n",
    "      print(df[\"abs_path\"].iloc[i])\n",
    "\n",
    "df[\"depth\"] = depth_i\n",
    "print(df)"
   ]
  },
  {
   "cell_type": "markdown",
   "metadata": {},
   "source": [
    "Задание 5. Статистика по колонках \"class_mark\", \"height\", \"width\" и \"depth\"."
   ]
  },
  {
   "cell_type": "code",
   "execution_count": 17,
   "metadata": {},
   "outputs": [
    {
     "name": "stdout",
     "output_type": "stream",
     "text": [
      "count    2466.000000\n",
      "mean        0.494323\n",
      "std         0.500069\n",
      "min         0.000000\n",
      "25%         0.000000\n",
      "50%         0.000000\n",
      "75%         1.000000\n",
      "max         1.000000\n",
      "Name: class_mark, dtype: float64\n"
     ]
    }
   ],
   "source": [
    "mark_stats = df['class_mark'].describe() \n",
    "print(mark_stats)"
   ]
  },
  {
   "cell_type": "code",
   "execution_count": 18,
   "metadata": {},
   "outputs": [
    {
     "name": "stdout",
     "output_type": "stream",
     "text": [
      "count    2466.000000\n",
      "mean      307.159773\n",
      "std        20.421989\n",
      "min       192.000000\n",
      "25%       300.000000\n",
      "50%       320.000000\n",
      "75%       320.000000\n",
      "max       320.000000\n",
      "Name: height, dtype: float64\n"
     ]
    }
   ],
   "source": [
    "height_stats = df['height'].describe() \n",
    "print(height_stats)"
   ]
  },
  {
   "cell_type": "code",
   "execution_count": 19,
   "metadata": {},
   "outputs": [
    {
     "name": "stdout",
     "output_type": "stream",
     "text": [
      "count    2466.000000\n",
      "mean      437.692214\n",
      "std        77.859147\n",
      "min       160.000000\n",
      "25%       427.000000\n",
      "50%       480.000000\n",
      "75%       480.000000\n",
      "max       480.000000\n",
      "Name: width, dtype: float64\n"
     ]
    }
   ],
   "source": [
    "width_stats = df['width'].describe() \n",
    "print(width_stats)"
   ]
  },
  {
   "cell_type": "code",
   "execution_count": 20,
   "metadata": {},
   "outputs": [
    {
     "name": "stdout",
     "output_type": "stream",
     "text": [
      "count    2466.0\n",
      "mean        3.0\n",
      "std         0.0\n",
      "min         3.0\n",
      "25%         3.0\n",
      "50%         3.0\n",
      "75%         3.0\n",
      "max         3.0\n",
      "Name: depth, dtype: float64\n"
     ]
    }
   ],
   "source": [
    "depth_stats = df['depth'].describe() \n",
    "print(depth_stats)"
   ]
  },
  {
   "cell_type": "markdown",
   "metadata": {},
   "source": [
    "Задание 6."
   ]
  },
  {
   "cell_type": "code",
   "execution_count": 21,
   "metadata": {},
   "outputs": [
    {
     "name": "stdout",
     "output_type": "stream",
     "text": [
      "                                               abs_path classname  class_mark  \\\n",
      "0     C:\\Users\\kiril\\Desktop\\4labAP\\dataset\\tiger\\00...     tiger           0   \n",
      "1     C:\\Users\\kiril\\Desktop\\4labAP\\dataset\\tiger\\00...     tiger           0   \n",
      "2     C:\\Users\\kiril\\Desktop\\4labAP\\dataset\\tiger\\00...     tiger           0   \n",
      "3     C:\\Users\\kiril\\Desktop\\4labAP\\dataset\\tiger\\00...     tiger           0   \n",
      "4     C:\\Users\\kiril\\Desktop\\4labAP\\dataset\\tiger\\00...     tiger           0   \n",
      "...                                                 ...       ...         ...   \n",
      "1242  C:\\Users\\kiril\\Desktop\\4labAP\\dataset\\tiger\\12...     tiger           0   \n",
      "1243  C:\\Users\\kiril\\Desktop\\4labAP\\dataset\\tiger\\12...     tiger           0   \n",
      "1244  C:\\Users\\kiril\\Desktop\\4labAP\\dataset\\tiger\\12...     tiger           0   \n",
      "1245  C:\\Users\\kiril\\Desktop\\4labAP\\dataset\\tiger\\12...     tiger           0   \n",
      "1246  C:\\Users\\kiril\\Desktop\\4labAP\\dataset\\tiger\\12...     tiger           0   \n",
      "\n",
      "      height  width  depth  \n",
      "0        300    480      3  \n",
      "1        300    480      3  \n",
      "2        300    480      3  \n",
      "3        316    480      3  \n",
      "4        320    480      3  \n",
      "...      ...    ...    ...  \n",
      "1242     319    480      3  \n",
      "1243     320    400      3  \n",
      "1244     320    480      3  \n",
      "1245     300    480      3  \n",
      "1246     300    480      3  \n",
      "\n",
      "[1247 rows x 6 columns]\n"
     ]
    }
   ],
   "source": [
    "def filter_dataframe(df: pd.DataFrame, label: int) -> pd.DataFrame:\n",
    "    \"\"\"\n",
    "    Функция на вход принимает DataFrame и метку класса, а возвращает отфильтрованный по метке DataFrame\n",
    "    \"\"\"\n",
    "    new= pd.DataFrame = df[df.class_mark == label]\n",
    "    return new\n",
    "\n",
    "print(filter_dataframe(df, 0))"
   ]
  },
  {
   "cell_type": "markdown",
   "metadata": {},
   "source": [
    "Задание 7."
   ]
  },
  {
   "cell_type": "code",
   "execution_count": null,
   "metadata": {},
   "outputs": [],
   "source": [
    "def specified_filter(label: int, max_width: int, max_height: int, df: pd.DataFrame) -> pd.DataFrame:\n",
    "    \"\"\"\n",
    "    Функция принимает метку класса, max_height и max_width, а возвращает отфильтрованный по заданным параметрам DataFrame\n",
    "    \"\"\"\n",
    "    new = df[(df.class_mark == label) & (df.width <= max_width) & (df.height <= max_height)]\n",
    "    return new\n",
    "\n",
    "print(specified_filter(1, 1000, 1000, df))"
   ]
  },
  {
   "cell_type": "markdown",
   "metadata": {},
   "source": [
    "Задание 8. Группировка DataFrame по метке класса с вычислением максимального, минимального и среднего значения по количеству пикселей."
   ]
  },
  {
   "cell_type": "code",
   "execution_count": null,
   "metadata": {},
   "outputs": [],
   "source": [
    "df[\"count_pixel\"] = df.height * df.width\n",
    "result= pd.DataFrame = df.groupby(\"class_mark\").agg({\"count_pixel\": ['mean', 'min', 'max']}) \n",
    "print(result)"
   ]
  }
 ],
 "metadata": {
  "kernelspec": {
   "display_name": "base",
   "language": "python",
   "name": "python3"
  },
  "language_info": {
   "codemirror_mode": {
    "name": "ipython",
    "version": 3
   },
   "file_extension": ".py",
   "mimetype": "text/x-python",
   "name": "python",
   "nbconvert_exporter": "python",
   "pygments_lexer": "ipython3",
   "version": "3.12.0"
  }
 },
 "nbformat": 4,
 "nbformat_minor": 2
}
